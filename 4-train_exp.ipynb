{
 "cells": [
  {
   "cell_type": "code",
   "execution_count": 1,
   "id": "c33d816c",
   "metadata": {},
   "outputs": [],
   "source": [
    "import warnings\n",
    "warnings.filterwarnings('ignore')\n",
    "import numpy as np\n",
    "\n",
    "import pandas as pd\n",
    "import xgboost as xg\n",
    "import lightgbm as lgb\n",
    "from lightgbm import LGBMRegressor\n",
    "\n",
    "# Plotting\n",
    "import matplotlib.pyplot as plt\n",
    "import plotly.express as px\n",
    "import seaborn as sns\n",
    "%matplotlib inline\n",
    "\n",
    "from sklearn.model_selection import train_test_split, KFold\n",
    "from sklearn.preprocessing import LabelEncoder\n",
    "from sklearn.metrics import mean_squared_error, mean_absolute_error, r2_score\n",
    "from sklearn.ensemble import RandomForestRegressor\n",
    "from sklearn import svm\n",
    "from sklearn.linear_model import LinearRegression\n",
    "from sklearn.metrics import mean_squared_error\n",
    "from sklearn.model_selection import KFold\n",
    "from sklearn.model_selection import RandomizedSearchCV\n",
    "from sklearn.model_selection import cross_val_score\n",
    "from sklearn.model_selection import GridSearchCV\n",
    "from sklearn.model_selection import train_test_split"
   ]
  },
  {
   "cell_type": "code",
   "execution_count": 2,
   "id": "c7448b23",
   "metadata": {},
   "outputs": [],
   "source": [
    "df_train = pd.read_csv('data/train_preprocessed.csv')"
   ]
  },
  {
   "cell_type": "code",
   "execution_count": 5,
   "id": "10c6f184",
   "metadata": {},
   "outputs": [],
   "source": [
    "y = df_train['y']\n",
    "X = df_train.drop(['predictions', 'reg_s_d', 'y', 'bad', 'avg'], axis=1)"
   ]
  },
  {
   "cell_type": "code",
   "execution_count": 6,
   "id": "b09f3fc5",
   "metadata": {},
   "outputs": [
    {
     "data": {
      "text/plain": [
       "Index(['st_code_snd', 'st_code_rsv', 'date_depart_year', 'date_depart_month',\n",
       "       'date_depart_week', 'date_depart_day', 'date_depart_hour', 'fr_id',\n",
       "       'route_type', 'is_load', 'rod', 'common_ch', 'vidsobst', 'distance',\n",
       "       'snd_org_id', 'rsv_org_id', 'snd_roadid', 'rsv_roadid', 'snd_dp_id',\n",
       "       'rsv_dp_id', 'avg_speed'],\n",
       "      dtype='object')"
      ]
     },
     "execution_count": 6,
     "metadata": {},
     "output_type": "execute_result"
    }
   ],
   "source": [
    "X.columns"
   ]
  },
  {
   "cell_type": "code",
   "execution_count": 7,
   "id": "c5810f67",
   "metadata": {},
   "outputs": [
    {
     "data": {
      "text/plain": [
       "(3523326, 21)"
      ]
     },
     "execution_count": 7,
     "metadata": {},
     "output_type": "execute_result"
    }
   ],
   "source": [
    "X.shape"
   ]
  },
  {
   "cell_type": "code",
   "execution_count": 8,
   "id": "74d4f613",
   "metadata": {},
   "outputs": [],
   "source": [
    "X_train, X_test, y_train, y_test  = train_test_split(X, y, test_size=0.2, random_state=1)\n",
    "\n",
    "#X_train, X_val, y_train, y_val  = train_test_split(X_train, y_train, test_size=0.25, random_state=1) # 0.25 x 0.8 = 0.2"
   ]
  },
  {
   "cell_type": "code",
   "execution_count": null,
   "id": "b0ab2fd8",
   "metadata": {},
   "outputs": [],
   "source": [
    "params = {\n",
    "    'task': 'train', \n",
    "    'boosting': 'gbdt',\n",
    "    'objective': 'regression',\n",
    "    'num_leaves': 30,\n",
    "    'learnnig_rage': 0.05,\n",
    "    'metric': {'l2','l1'},\n",
    "    'verbose': 10,\n",
    "    'early_stopping_round':100\n",
    "}"
   ]
  },
  {
   "cell_type": "code",
   "execution_count": null,
   "id": "bd567fad",
   "metadata": {},
   "outputs": [],
   "source": [
    "lgb_train = lgb.Dataset(X_train, y_train)\n",
    "lgb_eval = lgb.Dataset(X_test, y_test, reference=lgb_train)"
   ]
  },
  {
   "cell_type": "code",
   "execution_count": null,
   "id": "b64014b0",
   "metadata": {},
   "outputs": [],
   "source": [
    "model = lgb.train(params,\n",
    "                 train_set=lgb_train,\n",
    "                 valid_sets=lgb_eval)"
   ]
  },
  {
   "cell_type": "code",
   "execution_count": null,
   "id": "c5a2905b",
   "metadata": {},
   "outputs": [],
   "source": [
    "# prediction\n",
    "y_pred = model.predict(X_test)\n",
    "\n",
    "# accuracy check\n",
    "mse = mean_squared_error(y_test, y_pred)\n",
    "rmse = mse**(0.5)\n",
    "\n",
    "print(\"MSE: %.2f\" % mse)\n",
    "print(\"RMSE: %.2f\" % rmse) "
   ]
  },
  {
   "cell_type": "code",
   "execution_count": null,
   "id": "86c07edd",
   "metadata": {},
   "outputs": [],
   "source": [
    "import matplotlib.pyplot as plt\n",
    "x_ax = range(len(y_test))\n",
    "plt.figure(figsize=(12, 6))\n",
    "plt.plot(x_ax, y_test, label=\"original\")\n",
    "plt.plot(x_ax, y_pred, label=\"predicted\")\n",
    "plt.xlabel('X')\n",
    "plt.ylabel('Price')\n",
    "plt.legend(loc='best',fancybox=True, shadow=True)\n",
    "plt.grid(True)\n",
    "plt.show()  "
   ]
  },
  {
   "cell_type": "code",
   "execution_count": null,
   "id": "ef21dea3",
   "metadata": {},
   "outputs": [],
   "source": [
    "lgb.plot_importance(model, height=.5)"
   ]
  },
  {
   "cell_type": "code",
   "execution_count": 15,
   "id": "efbab2c3",
   "metadata": {},
   "outputs": [],
   "source": [
    "df_test = pd.read_csv('data/test_preprocessed.csv')"
   ]
  },
  {
   "cell_type": "markdown",
   "id": "d8697771",
   "metadata": {},
   "source": [
    "# MORE"
   ]
  },
  {
   "cell_type": "code",
   "execution_count": null,
   "id": "411d3b89",
   "metadata": {},
   "outputs": [],
   "source": [
    "lgb_model = lgb.LGBMRegressor(\n",
    "    task = 'predict',\n",
    "    application = 'regression',\n",
    "    objective = 'root_mean_squared_error',\n",
    "    boosting_type=\"gbdt\",\n",
    "    num_iterations = 2500,\n",
    "    learning_rate = 0.05,\n",
    "    num_leaves=15,\n",
    "    tree_learner='feature',\n",
    "    max_depth =10,\n",
    "    min_data_in_leaf=7,\n",
    "    bagging_fraction = 1,\n",
    "    bagging_freq = 100,\n",
    "    reg_sqrt='True',\n",
    "    metric ='rmse',\n",
    "    feature_fraction = 0.6,\n",
    "    random_state=42\n",
    ")"
   ]
  },
  {
   "cell_type": "code",
   "execution_count": null,
   "id": "d1d22224",
   "metadata": {},
   "outputs": [],
   "source": [
    "lgb_model.fit(X_train, y_train, verbose=10)"
   ]
  },
  {
   "cell_type": "code",
   "execution_count": null,
   "id": "a34e1a3c",
   "metadata": {},
   "outputs": [],
   "source": [
    "preds_lgb_model = lgb_model.predict(X_test)\n",
    "rmse_lgb = np.sqrt(mean_squared_error(y_test, preds_lgb_model))\n",
    "print(\" RMSE: %f\" % (rmse_lgb ))"
   ]
  },
  {
   "cell_type": "code",
   "execution_count": null,
   "id": "b8e7f765",
   "metadata": {},
   "outputs": [],
   "source": [
    "df_test = pd.read_csv('data/test_preprocessed.csv')"
   ]
  },
  {
   "cell_type": "code",
   "execution_count": null,
   "id": "970e0fad",
   "metadata": {},
   "outputs": [],
   "source": [
    "df_test.shape"
   ]
  },
  {
   "cell_type": "code",
   "execution_count": null,
   "id": "d24bb98a",
   "metadata": {},
   "outputs": [],
   "source": [
    "pred = lgb_model.predict(df_test)\n",
    "sol = pd.DataFrame()\n",
    "sol['time'] = pred"
   ]
  },
  {
   "cell_type": "code",
   "execution_count": null,
   "id": "be1f395e",
   "metadata": {},
   "outputs": [],
   "source": [
    "sol.describe()"
   ]
  },
  {
   "cell_type": "code",
   "execution_count": null,
   "id": "f7ea83f3",
   "metadata": {},
   "outputs": [],
   "source": [
    "sol['time'] = sol['time'].apply(lambda r: max(r, 1))"
   ]
  },
  {
   "cell_type": "code",
   "execution_count": null,
   "id": "b4b63c13",
   "metadata": {},
   "outputs": [],
   "source": [
    "sol.to_csv('data/solution_6.csv', index=False)"
   ]
  },
  {
   "cell_type": "markdown",
   "id": "264bccea",
   "metadata": {},
   "source": [
    "# tuning\n"
   ]
  },
  {
   "cell_type": "code",
   "execution_count": null,
   "id": "6848fd25",
   "metadata": {},
   "outputs": [],
   "source": [
    "parameters = {\n",
    "    'task' : ['predict'],\n",
    "    'boosting': ['gbdt' ],\n",
    "    'objective': ['root_mean_squared_error'],\n",
    "    'num_iterations': [7500  ], # 7500\n",
    "#     'learning_rate':[  0.05, 0.005 ],\n",
    "   'num_leaves':[51  ], # was 31 51 test\n",
    "   'max_depth' :[ 15], # was [ 10,15,25],\n",
    "   'min_data_in_leaf':[ 15 ], #15\n",
    "  'feature_fraction': [ 0.8,], # >0.8\n",
    "#     'bagging_fraction': [  0.6, 0.8 ],\n",
    "    'bagging_freq': [   100  ],\n",
    "     \n",
    "}"
   ]
  },
  {
   "cell_type": "code",
   "execution_count": null,
   "id": "cbb5f5d2",
   "metadata": {},
   "outputs": [],
   "source": [
    "%%time \n",
    "\n",
    "gsearch_lgb = GridSearchCV(lgb_model, param_grid = parameters, n_jobs=-1, verbose=10)\n",
    "gsearch_lgb.fit(X_train,y_train)"
   ]
  },
  {
   "cell_type": "code",
   "execution_count": null,
   "id": "58084553",
   "metadata": {},
   "outputs": [],
   "source": [
    "print (gsearch_lgb.best_params_)"
   ]
  },
  {
   "cell_type": "code",
   "execution_count": null,
   "id": "6f0c367b",
   "metadata": {},
   "outputs": [],
   "source": [
    "preds_lgb_model = gsearch_lgb.predict(X_test)\n",
    "\n",
    "rmse_lgb = np.sqrt(mean_squared_error(y_test, preds_lgb_model))\n",
    "print(\" RMSE: %f\" % (rmse_lgb ))"
   ]
  },
  {
   "cell_type": "code",
   "execution_count": null,
   "id": "ae010c14",
   "metadata": {},
   "outputs": [],
   "source": [
    "lgb.plot_importance(lgb_model, height=.5)"
   ]
  },
  {
   "cell_type": "code",
   "execution_count": null,
   "id": "b469bdbf",
   "metadata": {},
   "outputs": [],
   "source": [
    "lgb_model = lgb.LGBMRegressor(\n",
    "    task = 'predict',\n",
    "    application = 'regression',\n",
    "    objective = 'root_mean_squared_error',\n",
    "    boosting_type=\"gbdt\",\n",
    "    learning_rate = 0.05,\n",
    "    tree_learner='feature',\n",
    "    bagging_fraction = 1,\n",
    "    bagging_freq = 100,\n",
    "    reg_sqrt='True',\n",
    "    metric ='rmse',\n",
    "    feature_fraction = 0.6,\n",
    "    random_state=42,\n",
    "    max_depth= 15,\n",
    "    min_data_in_leaf= 15,\n",
    "    num_iterations=7500,\n",
    "    num_leaves=51,\n",
    ")"
   ]
  },
  {
   "cell_type": "code",
   "execution_count": null,
   "id": "17356557",
   "metadata": {},
   "outputs": [],
   "source": [
    "lgb_model.fit(X, y, verbose=10)"
   ]
  },
  {
   "cell_type": "code",
   "execution_count": null,
   "id": "a8817e0c",
   "metadata": {},
   "outputs": [],
   "source": [
    "preds_lgb_model = lgb_model.predict(X_test)\n",
    "rmse_lgb = np.sqrt(mean_squared_error(y_test, preds_lgb_model))\n",
    "print(\" RMSE: %f\" % (rmse_lgb ))"
   ]
  },
  {
   "cell_type": "code",
   "execution_count": null,
   "id": "e515f21f",
   "metadata": {},
   "outputs": [],
   "source": [
    "pred = lgb_model.predict(df_test)\n",
    "sol = pd.DataFrame()\n",
    "sol['time'] = pred"
   ]
  },
  {
   "cell_type": "code",
   "execution_count": null,
   "id": "e91e53c3",
   "metadata": {},
   "outputs": [],
   "source": [
    "sol.describe()"
   ]
  },
  {
   "cell_type": "code",
   "execution_count": null,
   "id": "01111370",
   "metadata": {},
   "outputs": [],
   "source": [
    "sol['time'] = sol['time'].apply(lambda r: max(r, 2))"
   ]
  },
  {
   "cell_type": "code",
   "execution_count": null,
   "id": "590112a3",
   "metadata": {},
   "outputs": [],
   "source": [
    "sol.to_csv('data/solution_8.csv', index=False)"
   ]
  },
  {
   "cell_type": "markdown",
   "id": "bbbdea5b",
   "metadata": {},
   "source": [
    "# XGB"
   ]
  },
  {
   "cell_type": "code",
   "execution_count": 3,
   "id": "fea4dc85",
   "metadata": {},
   "outputs": [],
   "source": [
    "import xgboost as xgb"
   ]
  },
  {
   "cell_type": "code",
   "execution_count": 4,
   "id": "c6c7dffe",
   "metadata": {},
   "outputs": [],
   "source": [
    "regressor=xgb.XGBRegressor(eval_metric='rmsle')\n"
   ]
  },
  {
   "cell_type": "code",
   "execution_count": 11,
   "id": "9ffb9990",
   "metadata": {},
   "outputs": [
    {
     "data": {
      "text/html": [
       "<style>#sk-container-id-1 {color: black;background-color: white;}#sk-container-id-1 pre{padding: 0;}#sk-container-id-1 div.sk-toggleable {background-color: white;}#sk-container-id-1 label.sk-toggleable__label {cursor: pointer;display: block;width: 100%;margin-bottom: 0;padding: 0.3em;box-sizing: border-box;text-align: center;}#sk-container-id-1 label.sk-toggleable__label-arrow:before {content: \"▸\";float: left;margin-right: 0.25em;color: #696969;}#sk-container-id-1 label.sk-toggleable__label-arrow:hover:before {color: black;}#sk-container-id-1 div.sk-estimator:hover label.sk-toggleable__label-arrow:before {color: black;}#sk-container-id-1 div.sk-toggleable__content {max-height: 0;max-width: 0;overflow: hidden;text-align: left;background-color: #f0f8ff;}#sk-container-id-1 div.sk-toggleable__content pre {margin: 0.2em;color: black;border-radius: 0.25em;background-color: #f0f8ff;}#sk-container-id-1 input.sk-toggleable__control:checked~div.sk-toggleable__content {max-height: 200px;max-width: 100%;overflow: auto;}#sk-container-id-1 input.sk-toggleable__control:checked~label.sk-toggleable__label-arrow:before {content: \"▾\";}#sk-container-id-1 div.sk-estimator input.sk-toggleable__control:checked~label.sk-toggleable__label {background-color: #d4ebff;}#sk-container-id-1 div.sk-label input.sk-toggleable__control:checked~label.sk-toggleable__label {background-color: #d4ebff;}#sk-container-id-1 input.sk-hidden--visually {border: 0;clip: rect(1px 1px 1px 1px);clip: rect(1px, 1px, 1px, 1px);height: 1px;margin: -1px;overflow: hidden;padding: 0;position: absolute;width: 1px;}#sk-container-id-1 div.sk-estimator {font-family: monospace;background-color: #f0f8ff;border: 1px dotted black;border-radius: 0.25em;box-sizing: border-box;margin-bottom: 0.5em;}#sk-container-id-1 div.sk-estimator:hover {background-color: #d4ebff;}#sk-container-id-1 div.sk-parallel-item::after {content: \"\";width: 100%;border-bottom: 1px solid gray;flex-grow: 1;}#sk-container-id-1 div.sk-label:hover label.sk-toggleable__label {background-color: #d4ebff;}#sk-container-id-1 div.sk-serial::before {content: \"\";position: absolute;border-left: 1px solid gray;box-sizing: border-box;top: 0;bottom: 0;left: 50%;z-index: 0;}#sk-container-id-1 div.sk-serial {display: flex;flex-direction: column;align-items: center;background-color: white;padding-right: 0.2em;padding-left: 0.2em;position: relative;}#sk-container-id-1 div.sk-item {position: relative;z-index: 1;}#sk-container-id-1 div.sk-parallel {display: flex;align-items: stretch;justify-content: center;background-color: white;position: relative;}#sk-container-id-1 div.sk-item::before, #sk-container-id-1 div.sk-parallel-item::before {content: \"\";position: absolute;border-left: 1px solid gray;box-sizing: border-box;top: 0;bottom: 0;left: 50%;z-index: -1;}#sk-container-id-1 div.sk-parallel-item {display: flex;flex-direction: column;z-index: 1;position: relative;background-color: white;}#sk-container-id-1 div.sk-parallel-item:first-child::after {align-self: flex-end;width: 50%;}#sk-container-id-1 div.sk-parallel-item:last-child::after {align-self: flex-start;width: 50%;}#sk-container-id-1 div.sk-parallel-item:only-child::after {width: 0;}#sk-container-id-1 div.sk-dashed-wrapped {border: 1px dashed gray;margin: 0 0.4em 0.5em 0.4em;box-sizing: border-box;padding-bottom: 0.4em;background-color: white;}#sk-container-id-1 div.sk-label label {font-family: monospace;font-weight: bold;display: inline-block;line-height: 1.2em;}#sk-container-id-1 div.sk-label-container {text-align: center;}#sk-container-id-1 div.sk-container {/* jupyter's `normalize.less` sets `[hidden] { display: none; }` but bootstrap.min.css set `[hidden] { display: none !important; }` so we also need the `!important` here to be able to override the default hidden behavior on the sphinx rendered scikit-learn.org. See: https://github.com/scikit-learn/scikit-learn/issues/21755 */display: inline-block !important;position: relative;}#sk-container-id-1 div.sk-text-repr-fallback {display: none;}</style><div id=\"sk-container-id-1\" class=\"sk-top-container\"><div class=\"sk-text-repr-fallback\"><pre>XGBRegressor(base_score=0.5, booster=&#x27;gbtree&#x27;, callbacks=None,\n",
       "             colsample_bylevel=1, colsample_bynode=1, colsample_bytree=1,\n",
       "             early_stopping_rounds=None, enable_categorical=False,\n",
       "             eval_metric=&#x27;rmsle&#x27;, feature_types=None, gamma=0, gpu_id=-1,\n",
       "             grow_policy=&#x27;depthwise&#x27;, importance_type=None,\n",
       "             interaction_constraints=&#x27;&#x27;, learning_rate=0.300000012, max_bin=256,\n",
       "             max_cat_threshold=64, max_cat_to_onehot=4, max_delta_step=0,\n",
       "             max_depth=6, max_leaves=0, min_child_weight=1, missing=nan,\n",
       "             monotone_constraints=&#x27;()&#x27;, n_estimators=100, n_jobs=0,\n",
       "             num_parallel_tree=1, predictor=&#x27;auto&#x27;, random_state=0, ...)</pre><b>In a Jupyter environment, please rerun this cell to show the HTML representation or trust the notebook. <br />On GitHub, the HTML representation is unable to render, please try loading this page with nbviewer.org.</b></div><div class=\"sk-container\" hidden><div class=\"sk-item\"><div class=\"sk-estimator sk-toggleable\"><input class=\"sk-toggleable__control sk-hidden--visually\" id=\"sk-estimator-id-1\" type=\"checkbox\" checked><label for=\"sk-estimator-id-1\" class=\"sk-toggleable__label sk-toggleable__label-arrow\">XGBRegressor</label><div class=\"sk-toggleable__content\"><pre>XGBRegressor(base_score=0.5, booster=&#x27;gbtree&#x27;, callbacks=None,\n",
       "             colsample_bylevel=1, colsample_bynode=1, colsample_bytree=1,\n",
       "             early_stopping_rounds=None, enable_categorical=False,\n",
       "             eval_metric=&#x27;rmsle&#x27;, feature_types=None, gamma=0, gpu_id=-1,\n",
       "             grow_policy=&#x27;depthwise&#x27;, importance_type=None,\n",
       "             interaction_constraints=&#x27;&#x27;, learning_rate=0.300000012, max_bin=256,\n",
       "             max_cat_threshold=64, max_cat_to_onehot=4, max_delta_step=0,\n",
       "             max_depth=6, max_leaves=0, min_child_weight=1, missing=nan,\n",
       "             monotone_constraints=&#x27;()&#x27;, n_estimators=100, n_jobs=0,\n",
       "             num_parallel_tree=1, predictor=&#x27;auto&#x27;, random_state=0, ...)</pre></div></div></div></div></div>"
      ],
      "text/plain": [
       "XGBRegressor(base_score=0.5, booster='gbtree', callbacks=None,\n",
       "             colsample_bylevel=1, colsample_bynode=1, colsample_bytree=1,\n",
       "             early_stopping_rounds=None, enable_categorical=False,\n",
       "             eval_metric='rmsle', feature_types=None, gamma=0, gpu_id=-1,\n",
       "             grow_policy='depthwise', importance_type=None,\n",
       "             interaction_constraints='', learning_rate=0.300000012, max_bin=256,\n",
       "             max_cat_threshold=64, max_cat_to_onehot=4, max_delta_step=0,\n",
       "             max_depth=6, max_leaves=0, min_child_weight=1, missing=nan,\n",
       "             monotone_constraints='()', n_estimators=100, n_jobs=0,\n",
       "             num_parallel_tree=1, predictor='auto', random_state=0, ...)"
      ]
     },
     "execution_count": 11,
     "metadata": {},
     "output_type": "execute_result"
    }
   ],
   "source": [
    "regressor.fit(X_train, y_train)"
   ]
  },
  {
   "cell_type": "code",
   "execution_count": 12,
   "id": "a0005fcb",
   "metadata": {},
   "outputs": [
    {
     "name": "stdout",
     "output_type": "stream",
     "text": [
      " RMSE: 38.543941\n"
     ]
    }
   ],
   "source": [
    "regressor_model = regressor.predict(X_test)\n",
    "rmse_regressor = np.sqrt(mean_squared_error(y_test, regressor_model))\n",
    "print(\" RMSE: %f\" % (rmse_regressor ))"
   ]
  },
  {
   "cell_type": "code",
   "execution_count": 13,
   "id": "b5e8b27c",
   "metadata": {},
   "outputs": [
    {
     "data": {
      "text/html": [
       "<style>#sk-container-id-2 {color: black;background-color: white;}#sk-container-id-2 pre{padding: 0;}#sk-container-id-2 div.sk-toggleable {background-color: white;}#sk-container-id-2 label.sk-toggleable__label {cursor: pointer;display: block;width: 100%;margin-bottom: 0;padding: 0.3em;box-sizing: border-box;text-align: center;}#sk-container-id-2 label.sk-toggleable__label-arrow:before {content: \"▸\";float: left;margin-right: 0.25em;color: #696969;}#sk-container-id-2 label.sk-toggleable__label-arrow:hover:before {color: black;}#sk-container-id-2 div.sk-estimator:hover label.sk-toggleable__label-arrow:before {color: black;}#sk-container-id-2 div.sk-toggleable__content {max-height: 0;max-width: 0;overflow: hidden;text-align: left;background-color: #f0f8ff;}#sk-container-id-2 div.sk-toggleable__content pre {margin: 0.2em;color: black;border-radius: 0.25em;background-color: #f0f8ff;}#sk-container-id-2 input.sk-toggleable__control:checked~div.sk-toggleable__content {max-height: 200px;max-width: 100%;overflow: auto;}#sk-container-id-2 input.sk-toggleable__control:checked~label.sk-toggleable__label-arrow:before {content: \"▾\";}#sk-container-id-2 div.sk-estimator input.sk-toggleable__control:checked~label.sk-toggleable__label {background-color: #d4ebff;}#sk-container-id-2 div.sk-label input.sk-toggleable__control:checked~label.sk-toggleable__label {background-color: #d4ebff;}#sk-container-id-2 input.sk-hidden--visually {border: 0;clip: rect(1px 1px 1px 1px);clip: rect(1px, 1px, 1px, 1px);height: 1px;margin: -1px;overflow: hidden;padding: 0;position: absolute;width: 1px;}#sk-container-id-2 div.sk-estimator {font-family: monospace;background-color: #f0f8ff;border: 1px dotted black;border-radius: 0.25em;box-sizing: border-box;margin-bottom: 0.5em;}#sk-container-id-2 div.sk-estimator:hover {background-color: #d4ebff;}#sk-container-id-2 div.sk-parallel-item::after {content: \"\";width: 100%;border-bottom: 1px solid gray;flex-grow: 1;}#sk-container-id-2 div.sk-label:hover label.sk-toggleable__label {background-color: #d4ebff;}#sk-container-id-2 div.sk-serial::before {content: \"\";position: absolute;border-left: 1px solid gray;box-sizing: border-box;top: 0;bottom: 0;left: 50%;z-index: 0;}#sk-container-id-2 div.sk-serial {display: flex;flex-direction: column;align-items: center;background-color: white;padding-right: 0.2em;padding-left: 0.2em;position: relative;}#sk-container-id-2 div.sk-item {position: relative;z-index: 1;}#sk-container-id-2 div.sk-parallel {display: flex;align-items: stretch;justify-content: center;background-color: white;position: relative;}#sk-container-id-2 div.sk-item::before, #sk-container-id-2 div.sk-parallel-item::before {content: \"\";position: absolute;border-left: 1px solid gray;box-sizing: border-box;top: 0;bottom: 0;left: 50%;z-index: -1;}#sk-container-id-2 div.sk-parallel-item {display: flex;flex-direction: column;z-index: 1;position: relative;background-color: white;}#sk-container-id-2 div.sk-parallel-item:first-child::after {align-self: flex-end;width: 50%;}#sk-container-id-2 div.sk-parallel-item:last-child::after {align-self: flex-start;width: 50%;}#sk-container-id-2 div.sk-parallel-item:only-child::after {width: 0;}#sk-container-id-2 div.sk-dashed-wrapped {border: 1px dashed gray;margin: 0 0.4em 0.5em 0.4em;box-sizing: border-box;padding-bottom: 0.4em;background-color: white;}#sk-container-id-2 div.sk-label label {font-family: monospace;font-weight: bold;display: inline-block;line-height: 1.2em;}#sk-container-id-2 div.sk-label-container {text-align: center;}#sk-container-id-2 div.sk-container {/* jupyter's `normalize.less` sets `[hidden] { display: none; }` but bootstrap.min.css set `[hidden] { display: none !important; }` so we also need the `!important` here to be able to override the default hidden behavior on the sphinx rendered scikit-learn.org. See: https://github.com/scikit-learn/scikit-learn/issues/21755 */display: inline-block !important;position: relative;}#sk-container-id-2 div.sk-text-repr-fallback {display: none;}</style><div id=\"sk-container-id-2\" class=\"sk-top-container\"><div class=\"sk-text-repr-fallback\"><pre>XGBRegressor(base_score=0.5, booster=&#x27;gbtree&#x27;, callbacks=None,\n",
       "             colsample_bylevel=1, colsample_bynode=1, colsample_bytree=1,\n",
       "             early_stopping_rounds=None, enable_categorical=False,\n",
       "             eval_metric=&#x27;rmsle&#x27;, feature_types=None, gamma=0, gpu_id=-1,\n",
       "             grow_policy=&#x27;depthwise&#x27;, importance_type=None,\n",
       "             interaction_constraints=&#x27;&#x27;, learning_rate=0.300000012, max_bin=256,\n",
       "             max_cat_threshold=64, max_cat_to_onehot=4, max_delta_step=0,\n",
       "             max_depth=6, max_leaves=0, min_child_weight=1, missing=nan,\n",
       "             monotone_constraints=&#x27;()&#x27;, n_estimators=100, n_jobs=0,\n",
       "             num_parallel_tree=1, predictor=&#x27;auto&#x27;, random_state=0, ...)</pre><b>In a Jupyter environment, please rerun this cell to show the HTML representation or trust the notebook. <br />On GitHub, the HTML representation is unable to render, please try loading this page with nbviewer.org.</b></div><div class=\"sk-container\" hidden><div class=\"sk-item\"><div class=\"sk-estimator sk-toggleable\"><input class=\"sk-toggleable__control sk-hidden--visually\" id=\"sk-estimator-id-2\" type=\"checkbox\" checked><label for=\"sk-estimator-id-2\" class=\"sk-toggleable__label sk-toggleable__label-arrow\">XGBRegressor</label><div class=\"sk-toggleable__content\"><pre>XGBRegressor(base_score=0.5, booster=&#x27;gbtree&#x27;, callbacks=None,\n",
       "             colsample_bylevel=1, colsample_bynode=1, colsample_bytree=1,\n",
       "             early_stopping_rounds=None, enable_categorical=False,\n",
       "             eval_metric=&#x27;rmsle&#x27;, feature_types=None, gamma=0, gpu_id=-1,\n",
       "             grow_policy=&#x27;depthwise&#x27;, importance_type=None,\n",
       "             interaction_constraints=&#x27;&#x27;, learning_rate=0.300000012, max_bin=256,\n",
       "             max_cat_threshold=64, max_cat_to_onehot=4, max_delta_step=0,\n",
       "             max_depth=6, max_leaves=0, min_child_weight=1, missing=nan,\n",
       "             monotone_constraints=&#x27;()&#x27;, n_estimators=100, n_jobs=0,\n",
       "             num_parallel_tree=1, predictor=&#x27;auto&#x27;, random_state=0, ...)</pre></div></div></div></div></div>"
      ],
      "text/plain": [
       "XGBRegressor(base_score=0.5, booster='gbtree', callbacks=None,\n",
       "             colsample_bylevel=1, colsample_bynode=1, colsample_bytree=1,\n",
       "             early_stopping_rounds=None, enable_categorical=False,\n",
       "             eval_metric='rmsle', feature_types=None, gamma=0, gpu_id=-1,\n",
       "             grow_policy='depthwise', importance_type=None,\n",
       "             interaction_constraints='', learning_rate=0.300000012, max_bin=256,\n",
       "             max_cat_threshold=64, max_cat_to_onehot=4, max_delta_step=0,\n",
       "             max_depth=6, max_leaves=0, min_child_weight=1, missing=nan,\n",
       "             monotone_constraints='()', n_estimators=100, n_jobs=0,\n",
       "             num_parallel_tree=1, predictor='auto', random_state=0, ...)"
      ]
     },
     "execution_count": 13,
     "metadata": {},
     "output_type": "execute_result"
    }
   ],
   "source": [
    "regressor.fit(X, y)"
   ]
  },
  {
   "cell_type": "code",
   "execution_count": 24,
   "id": "3d6cbe42",
   "metadata": {},
   "outputs": [
    {
     "data": {
      "text/plain": [
       "(1182903, 21)"
      ]
     },
     "execution_count": 24,
     "metadata": {},
     "output_type": "execute_result"
    }
   ],
   "source": [
    "df_test.shape"
   ]
  },
  {
   "cell_type": "code",
   "execution_count": 20,
   "id": "bd75ee4c",
   "metadata": {},
   "outputs": [],
   "source": [
    "pred = regressor.predict(df_test)\n",
    "sol = pd.DataFrame()\n",
    "sol['time'] = pred"
   ]
  },
  {
   "cell_type": "code",
   "execution_count": 21,
   "id": "aa4219da",
   "metadata": {},
   "outputs": [
    {
     "data": {
      "text/html": [
       "<div>\n",
       "<style scoped>\n",
       "    .dataframe tbody tr th:only-of-type {\n",
       "        vertical-align: middle;\n",
       "    }\n",
       "\n",
       "    .dataframe tbody tr th {\n",
       "        vertical-align: top;\n",
       "    }\n",
       "\n",
       "    .dataframe thead th {\n",
       "        text-align: right;\n",
       "    }\n",
       "</style>\n",
       "<table border=\"1\" class=\"dataframe\">\n",
       "  <thead>\n",
       "    <tr style=\"text-align: right;\">\n",
       "      <th></th>\n",
       "      <th>time</th>\n",
       "    </tr>\n",
       "  </thead>\n",
       "  <tbody>\n",
       "    <tr>\n",
       "      <th>count</th>\n",
       "      <td>1.182903e+06</td>\n",
       "    </tr>\n",
       "    <tr>\n",
       "      <th>mean</th>\n",
       "      <td>9.619348e+01</td>\n",
       "    </tr>\n",
       "    <tr>\n",
       "      <th>std</th>\n",
       "      <td>9.355412e+01</td>\n",
       "    </tr>\n",
       "    <tr>\n",
       "      <th>min</th>\n",
       "      <td>-5.570679e+01</td>\n",
       "    </tr>\n",
       "    <tr>\n",
       "      <th>25%</th>\n",
       "      <td>2.278860e+01</td>\n",
       "    </tr>\n",
       "    <tr>\n",
       "      <th>50%</th>\n",
       "      <td>7.438152e+01</td>\n",
       "    </tr>\n",
       "    <tr>\n",
       "      <th>75%</th>\n",
       "      <td>1.395524e+02</td>\n",
       "    </tr>\n",
       "    <tr>\n",
       "      <th>max</th>\n",
       "      <td>4.374418e+03</td>\n",
       "    </tr>\n",
       "  </tbody>\n",
       "</table>\n",
       "</div>"
      ],
      "text/plain": [
       "               time\n",
       "count  1.182903e+06\n",
       "mean   9.619348e+01\n",
       "std    9.355412e+01\n",
       "min   -5.570679e+01\n",
       "25%    2.278860e+01\n",
       "50%    7.438152e+01\n",
       "75%    1.395524e+02\n",
       "max    4.374418e+03"
      ]
     },
     "execution_count": 21,
     "metadata": {},
     "output_type": "execute_result"
    }
   ],
   "source": [
    "sol.describe()"
   ]
  },
  {
   "cell_type": "code",
   "execution_count": 22,
   "id": "b0a3c812",
   "metadata": {},
   "outputs": [],
   "source": [
    "sol['time'] = sol['time'].apply(lambda r: max(r, 1))"
   ]
  },
  {
   "cell_type": "code",
   "execution_count": 23,
   "id": "379b5dd2",
   "metadata": {},
   "outputs": [],
   "source": [
    "sol.to_csv('data/solution_9.csv', index=False)"
   ]
  },
  {
   "cell_type": "code",
   "execution_count": 25,
   "id": "75d24080",
   "metadata": {},
   "outputs": [
    {
     "data": {
      "text/plain": [
       "(1182903, 1)"
      ]
     },
     "execution_count": 25,
     "metadata": {},
     "output_type": "execute_result"
    }
   ],
   "source": [
    "sol.shape"
   ]
  },
  {
   "cell_type": "code",
   "execution_count": 26,
   "id": "4fd486d5",
   "metadata": {},
   "outputs": [],
   "source": [
    "sol7 = pd.read_csv('data/solution_7.csv')\n",
    "\n",
    "sol9 = pd.read_csv('data/solution_9.csv')"
   ]
  },
  {
   "cell_type": "code",
   "execution_count": 27,
   "id": "36cc369f",
   "metadata": {},
   "outputs": [
    {
     "data": {
      "text/plain": [
       "(1182903, 1)"
      ]
     },
     "execution_count": 27,
     "metadata": {},
     "output_type": "execute_result"
    }
   ],
   "source": [
    "sol7.shape"
   ]
  },
  {
   "cell_type": "code",
   "execution_count": 29,
   "id": "5a54f752",
   "metadata": {},
   "outputs": [
    {
     "data": {
      "text/plain": [
       "(1182903, 1)"
      ]
     },
     "execution_count": 29,
     "metadata": {},
     "output_type": "execute_result"
    }
   ],
   "source": [
    "sol9.shape"
   ]
  },
  {
   "cell_type": "code",
   "execution_count": null,
   "id": "bc66b57c",
   "metadata": {},
   "outputs": [],
   "source": [
    "sol"
   ]
  },
  {
   "cell_type": "code",
   "execution_count": 33,
   "id": "aacc3f54",
   "metadata": {},
   "outputs": [
    {
     "data": {
      "text/html": [
       "<div>\n",
       "<style scoped>\n",
       "    .dataframe tbody tr th:only-of-type {\n",
       "        vertical-align: middle;\n",
       "    }\n",
       "\n",
       "    .dataframe tbody tr th {\n",
       "        vertical-align: top;\n",
       "    }\n",
       "\n",
       "    .dataframe thead th {\n",
       "        text-align: right;\n",
       "    }\n",
       "</style>\n",
       "<table border=\"1\" class=\"dataframe\">\n",
       "  <thead>\n",
       "    <tr style=\"text-align: right;\">\n",
       "      <th></th>\n",
       "    </tr>\n",
       "  </thead>\n",
       "  <tbody>\n",
       "  </tbody>\n",
       "</table>\n",
       "</div>"
      ],
      "text/plain": [
       "Empty DataFrame\n",
       "Columns: []\n",
       "Index: []"
      ]
     },
     "execution_count": 33,
     "metadata": {},
     "output_type": "execute_result"
    }
   ],
   "source": [
    "comb = pd.DataFrame()\n",
    "comb"
   ]
  },
  {
   "cell_type": "code",
   "execution_count": 34,
   "id": "031bfc96",
   "metadata": {},
   "outputs": [],
   "source": [
    "comb['sol7'] = sol7['time']\n",
    "comb['sol9'] = sol9['time']"
   ]
  },
  {
   "cell_type": "code",
   "execution_count": 36,
   "id": "6a1e1832",
   "metadata": {},
   "outputs": [],
   "source": [
    "comb['time'] = (comb['sol7'] + comb['sol9']) / 2"
   ]
  },
  {
   "cell_type": "code",
   "execution_count": 38,
   "id": "0c60a556",
   "metadata": {},
   "outputs": [
    {
     "data": {
      "text/html": [
       "<div>\n",
       "<style scoped>\n",
       "    .dataframe tbody tr th:only-of-type {\n",
       "        vertical-align: middle;\n",
       "    }\n",
       "\n",
       "    .dataframe tbody tr th {\n",
       "        vertical-align: top;\n",
       "    }\n",
       "\n",
       "    .dataframe thead th {\n",
       "        text-align: right;\n",
       "    }\n",
       "</style>\n",
       "<table border=\"1\" class=\"dataframe\">\n",
       "  <thead>\n",
       "    <tr style=\"text-align: right;\">\n",
       "      <th></th>\n",
       "      <th>sol7</th>\n",
       "      <th>sol9</th>\n",
       "      <th>time</th>\n",
       "    </tr>\n",
       "  </thead>\n",
       "  <tbody>\n",
       "    <tr>\n",
       "      <th>0</th>\n",
       "      <td>167.670811</td>\n",
       "      <td>154.735138</td>\n",
       "      <td>161.202975</td>\n",
       "    </tr>\n",
       "    <tr>\n",
       "      <th>1</th>\n",
       "      <td>139.029587</td>\n",
       "      <td>143.220840</td>\n",
       "      <td>141.125214</td>\n",
       "    </tr>\n",
       "    <tr>\n",
       "      <th>2</th>\n",
       "      <td>204.683241</td>\n",
       "      <td>204.490967</td>\n",
       "      <td>204.587104</td>\n",
       "    </tr>\n",
       "    <tr>\n",
       "      <th>3</th>\n",
       "      <td>70.296667</td>\n",
       "      <td>79.003647</td>\n",
       "      <td>74.650157</td>\n",
       "    </tr>\n",
       "    <tr>\n",
       "      <th>4</th>\n",
       "      <td>116.412118</td>\n",
       "      <td>283.810455</td>\n",
       "      <td>200.111286</td>\n",
       "    </tr>\n",
       "    <tr>\n",
       "      <th>...</th>\n",
       "      <td>...</td>\n",
       "      <td>...</td>\n",
       "      <td>...</td>\n",
       "    </tr>\n",
       "    <tr>\n",
       "      <th>1182898</th>\n",
       "      <td>195.022460</td>\n",
       "      <td>201.256516</td>\n",
       "      <td>198.139488</td>\n",
       "    </tr>\n",
       "    <tr>\n",
       "      <th>1182899</th>\n",
       "      <td>275.062068</td>\n",
       "      <td>283.909180</td>\n",
       "      <td>279.485624</td>\n",
       "    </tr>\n",
       "    <tr>\n",
       "      <th>1182900</th>\n",
       "      <td>4.904554</td>\n",
       "      <td>5.309921</td>\n",
       "      <td>5.107237</td>\n",
       "    </tr>\n",
       "    <tr>\n",
       "      <th>1182901</th>\n",
       "      <td>43.747659</td>\n",
       "      <td>50.558861</td>\n",
       "      <td>47.153260</td>\n",
       "    </tr>\n",
       "    <tr>\n",
       "      <th>1182902</th>\n",
       "      <td>65.216123</td>\n",
       "      <td>60.001675</td>\n",
       "      <td>62.608899</td>\n",
       "    </tr>\n",
       "  </tbody>\n",
       "</table>\n",
       "<p>1182903 rows × 3 columns</p>\n",
       "</div>"
      ],
      "text/plain": [
       "               sol7        sol9        time\n",
       "0        167.670811  154.735138  161.202975\n",
       "1        139.029587  143.220840  141.125214\n",
       "2        204.683241  204.490967  204.587104\n",
       "3         70.296667   79.003647   74.650157\n",
       "4        116.412118  283.810455  200.111286\n",
       "...             ...         ...         ...\n",
       "1182898  195.022460  201.256516  198.139488\n",
       "1182899  275.062068  283.909180  279.485624\n",
       "1182900    4.904554    5.309921    5.107237\n",
       "1182901   43.747659   50.558861   47.153260\n",
       "1182902   65.216123   60.001675   62.608899\n",
       "\n",
       "[1182903 rows x 3 columns]"
      ]
     },
     "execution_count": 38,
     "metadata": {},
     "output_type": "execute_result"
    }
   ],
   "source": [
    "comb[comb['time'] > 0]"
   ]
  },
  {
   "cell_type": "code",
   "execution_count": 40,
   "id": "32aea25e",
   "metadata": {},
   "outputs": [],
   "source": [
    "comb[['time']].to_csv('data/solution_10.csv', index=False)"
   ]
  },
  {
   "cell_type": "code",
   "execution_count": 1,
   "id": "a2c0078f",
   "metadata": {},
   "outputs": [
    {
     "ename": "NameError",
     "evalue": "name 'regressor' is not defined",
     "output_type": "error",
     "traceback": [
      "\u001B[0;31m---------------------------------------------------------------------------\u001B[0m",
      "\u001B[0;31mNameError\u001B[0m                                 Traceback (most recent call last)",
      "Cell \u001B[0;32mIn[1], line 8\u001B[0m\n\u001B[1;32m      3\u001B[0m param_grid \u001B[38;5;241m=\u001B[39m {\u001B[38;5;124m\"\u001B[39m\u001B[38;5;124mmax_depth\u001B[39m\u001B[38;5;124m\"\u001B[39m:    [\u001B[38;5;241m4\u001B[39m, \u001B[38;5;241m5\u001B[39m],\n\u001B[1;32m      4\u001B[0m               \u001B[38;5;124m\"\u001B[39m\u001B[38;5;124mn_estimators\u001B[39m\u001B[38;5;124m\"\u001B[39m: [\u001B[38;5;241m500\u001B[39m, \u001B[38;5;241m600\u001B[39m, \u001B[38;5;241m700\u001B[39m],\n\u001B[1;32m      5\u001B[0m               \u001B[38;5;124m\"\u001B[39m\u001B[38;5;124mlearning_rate\u001B[39m\u001B[38;5;124m\"\u001B[39m: [\u001B[38;5;241m0.01\u001B[39m, \u001B[38;5;241m0.015\u001B[39m]}\n\u001B[1;32m      7\u001B[0m \u001B[38;5;66;03m# try out every combination of the above values\u001B[39;00m\n\u001B[0;32m----> 8\u001B[0m search \u001B[38;5;241m=\u001B[39m GridSearchCV(\u001B[43mregressor\u001B[49m, param_grid, cv\u001B[38;5;241m=\u001B[39m\u001B[38;5;241m5\u001B[39m)\u001B[38;5;241m.\u001B[39mfit(X_train, y_train)\n\u001B[1;32m     10\u001B[0m \u001B[38;5;28mprint\u001B[39m(\u001B[38;5;124m\"\u001B[39m\u001B[38;5;124mThe best hyperparameters are \u001B[39m\u001B[38;5;124m\"\u001B[39m,search\u001B[38;5;241m.\u001B[39mbest_params_)\n",
      "\u001B[0;31mNameError\u001B[0m: name 'regressor' is not defined"
     ]
    }
   ],
   "source": [
    "from sklearn.model_selection import GridSearchCV\n",
    "# set up our search grid\n",
    "param_grid = {\"max_depth\":    [4, 5],\n",
    "              \"n_estimators\": [500, 600, 700],\n",
    "              \"learning_rate\": [0.01, 0.015]}\n",
    "\n",
    "# try out every combination of the above values\n",
    "search = GridSearchCV(regressor, param_grid, cv=5).fit(X_train, y_train)\n",
    "\n",
    "print(\"The best hyperparameters are \",search.best_params_)"
   ]
  },
  {
   "cell_type": "code",
   "execution_count": null,
   "id": "5047a4d7",
   "metadata": {},
   "outputs": [],
   "source": []
  }
 ],
 "metadata": {
  "kernelspec": {
   "display_name": "Python 3 (ipykernel)",
   "language": "python",
   "name": "python3"
  },
  "language_info": {
   "codemirror_mode": {
    "name": "ipython",
    "version": 3
   },
   "file_extension": ".py",
   "mimetype": "text/x-python",
   "name": "python",
   "nbconvert_exporter": "python",
   "pygments_lexer": "ipython3",
   "version": "3.9.15"
  }
 },
 "nbformat": 4,
 "nbformat_minor": 5
}

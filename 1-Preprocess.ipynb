{
 "cells": [
  {
   "cell_type": "code",
   "execution_count": 2,
   "metadata": {
    "collapsed": true
   },
   "outputs": [],
   "source": [
    "import numpy as np\n",
    "import pandas as pd\n",
    "import pyarrow.parquet as pq"
   ]
  },
  {
   "cell_type": "code",
   "execution_count": 8,
   "outputs": [
    {
     "data": {
      "text/plain": "(4219370, 21)"
     },
     "execution_count": 8,
     "metadata": {},
     "output_type": "execute_result"
    }
   ],
   "source": [
    "df = pq.read_table('data/df_train.parquet')\n",
    "df.shape"
   ],
   "metadata": {
    "collapsed": false
   }
  },
  {
   "cell_type": "code",
   "execution_count": 9,
   "outputs": [],
   "source": [
    "df = df.to_pandas()"
   ],
   "metadata": {
    "collapsed": false
   }
  },
  {
   "cell_type": "code",
   "execution_count": 10,
   "outputs": [
    {
     "data": {
      "text/plain": "(4219370, 21)"
     },
     "execution_count": 10,
     "metadata": {},
     "output_type": "execute_result"
    }
   ],
   "source": [
    "df.shape"
   ],
   "metadata": {
    "collapsed": false
   }
  },
  {
   "cell_type": "code",
   "execution_count": 11,
   "outputs": [],
   "source": [
    "df.to_csv('data/train.csv', index=False)"
   ],
   "metadata": {
    "collapsed": false
   }
  },
  {
   "cell_type": "code",
   "execution_count": 11,
   "outputs": [
    {
     "data": {
      "text/plain": "                st_code_snd                 st_code_rsv  date_depart_year  \\\n0       happy:)pgkwagon:):)         pgk2022newyear:)pgk              2022   \n1  2022newyear:)newyear:):)     hacktutu:)newyear:)2022              2022   \n2     happyrailwaytutu:)pgk  newyeartutu:)hack:)newyear              2022   \n3   2022tuturailwayhack:):)     2022newyear:)happy:)pgk              2022   \n4     happyrailwaytutu:)pgk         pgk2022newyear:)pgk              2022   \n\n   date_depart_month  date_depart_week  date_depart_day  date_depart_hour  \\\n0                  9                35                1                 9   \n1                  8                34               22                14   \n2                  5                21               26                16   \n3                 11                44                4                 4   \n4                  5                20               17                 6   \n\n    fr_id  route_type  is_load  rod  common_ch  vidsobst  distance  \\\n0  2261.0         3.0        0    2       10.0     102.0    2930.0   \n1  1653.0         4.0        1    8        9.0     102.0    1728.0   \n2   643.0         3.0        1    8        9.0     102.0    4393.0   \n3  2261.0         4.0        0    8      975.0     111.0    1111.0   \n4  2261.0         3.0        0   15       40.0     111.0      19.0   \n\n   snd_org_id  rsv_org_id  snd_roadid  rsv_roadid  snd_dp_id  rsv_dp_id  \n0        2974        2847          28          28        134        125  \n1        2957        6340          18          18        102         16  \n2        1664        2128           0           0          1        124  \n3        2974        2468          32          32         29         31  \n4        2974        1098          29          29        117        117  ",
      "text/html": "<div>\n<style scoped>\n    .dataframe tbody tr th:only-of-type {\n        vertical-align: middle;\n    }\n\n    .dataframe tbody tr th {\n        vertical-align: top;\n    }\n\n    .dataframe thead th {\n        text-align: right;\n    }\n</style>\n<table border=\"1\" class=\"dataframe\">\n  <thead>\n    <tr style=\"text-align: right;\">\n      <th></th>\n      <th>st_code_snd</th>\n      <th>st_code_rsv</th>\n      <th>date_depart_year</th>\n      <th>date_depart_month</th>\n      <th>date_depart_week</th>\n      <th>date_depart_day</th>\n      <th>date_depart_hour</th>\n      <th>fr_id</th>\n      <th>route_type</th>\n      <th>is_load</th>\n      <th>rod</th>\n      <th>common_ch</th>\n      <th>vidsobst</th>\n      <th>distance</th>\n      <th>snd_org_id</th>\n      <th>rsv_org_id</th>\n      <th>snd_roadid</th>\n      <th>rsv_roadid</th>\n      <th>snd_dp_id</th>\n      <th>rsv_dp_id</th>\n    </tr>\n  </thead>\n  <tbody>\n    <tr>\n      <th>0</th>\n      <td>happy:)pgkwagon:):)</td>\n      <td>pgk2022newyear:)pgk</td>\n      <td>2022</td>\n      <td>9</td>\n      <td>35</td>\n      <td>1</td>\n      <td>9</td>\n      <td>2261.0</td>\n      <td>3.0</td>\n      <td>0</td>\n      <td>2</td>\n      <td>10.0</td>\n      <td>102.0</td>\n      <td>2930.0</td>\n      <td>2974</td>\n      <td>2847</td>\n      <td>28</td>\n      <td>28</td>\n      <td>134</td>\n      <td>125</td>\n    </tr>\n    <tr>\n      <th>1</th>\n      <td>2022newyear:)newyear:):)</td>\n      <td>hacktutu:)newyear:)2022</td>\n      <td>2022</td>\n      <td>8</td>\n      <td>34</td>\n      <td>22</td>\n      <td>14</td>\n      <td>1653.0</td>\n      <td>4.0</td>\n      <td>1</td>\n      <td>8</td>\n      <td>9.0</td>\n      <td>102.0</td>\n      <td>1728.0</td>\n      <td>2957</td>\n      <td>6340</td>\n      <td>18</td>\n      <td>18</td>\n      <td>102</td>\n      <td>16</td>\n    </tr>\n    <tr>\n      <th>2</th>\n      <td>happyrailwaytutu:)pgk</td>\n      <td>newyeartutu:)hack:)newyear</td>\n      <td>2022</td>\n      <td>5</td>\n      <td>21</td>\n      <td>26</td>\n      <td>16</td>\n      <td>643.0</td>\n      <td>3.0</td>\n      <td>1</td>\n      <td>8</td>\n      <td>9.0</td>\n      <td>102.0</td>\n      <td>4393.0</td>\n      <td>1664</td>\n      <td>2128</td>\n      <td>0</td>\n      <td>0</td>\n      <td>1</td>\n      <td>124</td>\n    </tr>\n    <tr>\n      <th>3</th>\n      <td>2022tuturailwayhack:):)</td>\n      <td>2022newyear:)happy:)pgk</td>\n      <td>2022</td>\n      <td>11</td>\n      <td>44</td>\n      <td>4</td>\n      <td>4</td>\n      <td>2261.0</td>\n      <td>4.0</td>\n      <td>0</td>\n      <td>8</td>\n      <td>975.0</td>\n      <td>111.0</td>\n      <td>1111.0</td>\n      <td>2974</td>\n      <td>2468</td>\n      <td>32</td>\n      <td>32</td>\n      <td>29</td>\n      <td>31</td>\n    </tr>\n    <tr>\n      <th>4</th>\n      <td>happyrailwaytutu:)pgk</td>\n      <td>pgk2022newyear:)pgk</td>\n      <td>2022</td>\n      <td>5</td>\n      <td>20</td>\n      <td>17</td>\n      <td>6</td>\n      <td>2261.0</td>\n      <td>3.0</td>\n      <td>0</td>\n      <td>15</td>\n      <td>40.0</td>\n      <td>111.0</td>\n      <td>19.0</td>\n      <td>2974</td>\n      <td>1098</td>\n      <td>29</td>\n      <td>29</td>\n      <td>117</td>\n      <td>117</td>\n    </tr>\n  </tbody>\n</table>\n</div>"
     },
     "execution_count": 11,
     "metadata": {},
     "output_type": "execute_result"
    }
   ],
   "source": [
    "df.head()"
   ],
   "metadata": {
    "collapsed": false
   }
  },
  {
   "cell_type": "code",
   "execution_count": null,
   "outputs": [],
   "source": [
    "df = pq.read_table('data/df_test.parquet')\n",
    "df = df.to_pandas()\n",
    "df.to_csv('data/test.csv', index=False)"
   ],
   "metadata": {
    "collapsed": false
   }
  }
 ],
 "metadata": {
  "kernelspec": {
   "display_name": "Python 3",
   "language": "python",
   "name": "python3"
  },
  "language_info": {
   "codemirror_mode": {
    "name": "ipython",
    "version": 2
   },
   "file_extension": ".py",
   "mimetype": "text/x-python",
   "name": "python",
   "nbconvert_exporter": "python",
   "pygments_lexer": "ipython2",
   "version": "2.7.6"
  }
 },
 "nbformat": 4,
 "nbformat_minor": 0
}
